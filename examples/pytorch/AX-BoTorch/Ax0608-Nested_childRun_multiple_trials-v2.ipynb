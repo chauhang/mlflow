{
 "cells": [
  {
   "cell_type": "code",
   "execution_count": 1,
   "metadata": {},
   "outputs": [],
   "source": [
    "%matplotlib inline"
   ]
  },
  {
   "cell_type": "code",
   "execution_count": 2,
   "metadata": {},
   "outputs": [
    {
     "name": "stdout",
     "output_type": "stream",
     "text": [
      "Collecting package metadata (current_repodata.json): done\n",
      "Solving environment: \\ \n",
      "The environment is inconsistent, please check the package plan carefully\n",
      "The following packages are causing the inconsistency:\n",
      "\n",
      "  - defaults/linux-64::scikit-learn==0.22.1=py36hd81dba3_0\n",
      "  - defaults/linux-64::bkcharts==0.2=py36_0\n",
      "  - defaults/noarch::dask==2.14.0=py_0\n",
      "  - defaults/noarch::numpydoc==0.9.2=py_0\n",
      "  - defaults/linux-64::pytest-arraydiff==0.3=py36h39e3cac_0\n",
      "  - defaults/linux-64::bottleneck==1.3.2=py36heb32a55_0\n",
      "  - defaults/linux-64::pywavelets==1.1.1=py36h7b6447c_0\n",
      "  - defaults/noarch::pytest-astropy==0.8.0=py_0\n",
      "  - defaults/linux-64::numexpr==2.7.1=py36h423224d_0\n",
      "  - defaults/linux-64::h5py==2.10.0=py36h7918eee_0\n",
      "  - defaults/linux-64::numpy-base==1.18.1=py36hde5b4d6_1\n",
      "  - defaults/noarch::s3fs==0.4.0=py_0\n",
      "  - defaults/linux-64::patsy==0.5.1=py36_0\n",
      "  - defaults/linux-64::scikit-image==0.16.2=py36h0573a6f_0\n",
      "  - defaults/linux-64::matplotlib-base==3.1.3=py36hef1b27d_0\n",
      "  - defaults/linux-64::pytables==3.6.1=py36h71ec239_0\n",
      "  - defaults/linux-64::mkl_fft==1.0.15=py36ha843d7b_0\n",
      "  - defaults/linux-64::statsmodels==0.11.0=py36h7b6447c_0\n",
      "  - defaults/linux-64::bokeh==2.0.1=py36_0\n",
      "  - defaults/noarch::seaborn==0.10.0=py_0\n",
      "  - defaults/linux-64::numba==0.48.0=py36h0573a6f_0\n",
      "  - defaults/linux-64::scipy==1.4.1=py36h0b6359f_0\n",
      "  - defaults/noarch::pytest-doctestplus==0.5.0=py_0\n",
      "  - defaults/noarch::imageio==2.8.0=py_0\n",
      "  - defaults/linux-64::astropy==4.0.1.post1=py36h7b6447c_0\n",
      "  - defaults/linux-64::mkl_random==1.1.0=py36hd6b4f25_0\n",
      "  - defaults/noarch::sphinx==3.0.4=py_0\n",
      "  - defaults/linux-64::spyder==4.1.2=py36_0\n",
      "  - defaults/linux-64::matplotlib==3.1.3=py36_0\n",
      "  - defaults/linux-64::pandas==1.0.3=py36h0573a6f_0\n",
      "  - defaults/linux-64::numpy==1.18.1=py36h4f9e942_0\n",
      "done\n",
      "\n",
      "## Package Plan ##\n",
      "\n",
      "  environment location: /home/ec2-user/anaconda3/envs/python3\n",
      "\n",
      "  added / updated specs:\n",
      "    - mlflow\n",
      "\n",
      "\n",
      "The following packages will be downloaded:\n",
      "\n",
      "    package                    |            build\n",
      "    ---------------------------|-----------------\n",
      "    alembic-1.4.2              |     pyh9f0ad1d_0         111 KB  conda-forge\n",
      "    appdirs-1.4.3              |             py_1          11 KB  conda-forge\n",
      "    boto3-1.14.38              |     pyh9f0ad1d_0          69 KB  conda-forge\n",
      "    botocore-1.17.38           |     pyh9f0ad1d_0         4.0 MB  conda-forge\n",
      "    configparser-5.0.0         |             py_0          23 KB  conda-forge\n",
      "    databricks-cli-0.9.1       |             py_0          48 KB  conda-forge\n",
      "    docker-py-4.2.2            |   py36h9f0ad1d_0         177 KB  conda-forge\n",
      "    docker-pycreds-0.4.0       |             py_0          11 KB  conda-forge\n",
      "    docutils-0.15.2            |           py36_0         736 KB  conda-forge\n",
      "    gitdb-4.0.5                |             py_0          46 KB  conda-forge\n",
      "    gitpython-3.1.7            |             py_0         109 KB  conda-forge\n",
      "    gorilla-0.3.0              |             py_0          11 KB  conda-forge\n",
      "    gunicorn-20.0.4            |   py36h9f0ad1d_1         117 KB  conda-forge\n",
      "    mako-1.1.3                 |     pyh9f0ad1d_0          58 KB  conda-forge\n",
      "    mkl_fft-1.1.0              |   py36h23d657b_0         144 KB\n",
      "    mlflow-1.2.0               |             py_1         3.4 MB  conda-forge\n",
      "    numpy-1.19.1               |   py36hbc911f0_0          21 KB\n",
      "    numpy-base-1.19.1          |   py36hfa32c7d_0         4.1 MB\n",
      "    openssl-1.1.1g             |       h516909a_1         2.1 MB  conda-forge\n",
      "    pip-20.2.1                 |             py_0         1.1 MB  conda-forge\n",
      "    python-editor-1.0.4        |             py_0           9 KB  conda-forge\n",
      "    querystring_parser-1.2.4   |             py_0          10 KB  conda-forge\n",
      "    s3transfer-0.3.3           |   py36h9f0ad1d_1          90 KB  conda-forge\n",
      "    scikit-learn-0.23.1        |   py36h423224d_0         5.1 MB\n",
      "    scipy-1.5.0                |   py36h0b6359f_0        14.4 MB\n",
      "    simplejson-3.17.2          |   py36h8c4c3a4_0         102 KB  conda-forge\n",
      "    smmap-3.0.4                |     pyh9f0ad1d_0          22 KB  conda-forge\n",
      "    sqlparse-0.3.1             |             py_0          30 KB  conda-forge\n",
      "    tabulate-0.8.7             |     pyh9f0ad1d_0          24 KB  conda-forge\n",
      "    threadpoolctl-2.1.0        |     pyh5ca1d4c_0          15 KB  conda-forge\n",
      "    websocket-client-0.57.0    |   py36h9f0ad1d_1          59 KB  conda-forge\n",
      "    ------------------------------------------------------------\n",
      "                                           Total:        36.2 MB\n",
      "\n",
      "The following NEW packages will be INSTALLED:\n",
      "\n",
      "  alembic            conda-forge/noarch::alembic-1.4.2-pyh9f0ad1d_0\n",
      "  appdirs            conda-forge/noarch::appdirs-1.4.3-py_1\n",
      "  boto3              conda-forge/noarch::boto3-1.14.38-pyh9f0ad1d_0\n",
      "  botocore           conda-forge/noarch::botocore-1.17.38-pyh9f0ad1d_0\n",
      "  configparser       conda-forge/noarch::configparser-5.0.0-py_0\n",
      "  databricks-cli     conda-forge/noarch::databricks-cli-0.9.1-py_0\n",
      "  docker-py          conda-forge/linux-64::docker-py-4.2.2-py36h9f0ad1d_0\n",
      "  docker-pycreds     conda-forge/noarch::docker-pycreds-0.4.0-py_0\n",
      "  docutils           conda-forge/linux-64::docutils-0.15.2-py36_0\n",
      "  gitdb              conda-forge/noarch::gitdb-4.0.5-py_0\n",
      "  gitpython          conda-forge/noarch::gitpython-3.1.7-py_0\n",
      "  gorilla            conda-forge/noarch::gorilla-0.3.0-py_0\n",
      "  gunicorn           conda-forge/linux-64::gunicorn-20.0.4-py36h9f0ad1d_1\n",
      "  mako               conda-forge/noarch::mako-1.1.3-pyh9f0ad1d_0\n",
      "  mlflow             conda-forge/noarch::mlflow-1.2.0-py_1\n",
      "  pip                conda-forge/noarch::pip-20.2.1-py_0\n",
      "  python-editor      conda-forge/noarch::python-editor-1.0.4-py_0\n",
      "  querystring_parser conda-forge/noarch::querystring_parser-1.2.4-py_0\n",
      "  s3transfer         conda-forge/linux-64::s3transfer-0.3.3-py36h9f0ad1d_1\n",
      "  simplejson         conda-forge/linux-64::simplejson-3.17.2-py36h8c4c3a4_0\n",
      "  smmap              conda-forge/noarch::smmap-3.0.4-pyh9f0ad1d_0\n",
      "  sqlparse           conda-forge/noarch::sqlparse-0.3.1-py_0\n",
      "  tabulate           conda-forge/noarch::tabulate-0.8.7-pyh9f0ad1d_0\n",
      "  threadpoolctl      conda-forge/noarch::threadpoolctl-2.1.0-pyh5ca1d4c_0\n",
      "  websocket-client   conda-forge/linux-64::websocket-client-0.57.0-py36h9f0ad1d_1\n",
      "\n",
      "The following packages will be UPDATED:\n",
      "\n",
      "  ca-certificates     pkgs/main::ca-certificates-2020.1.1-0 --> conda-forge::ca-certificates-2020.6.20-hecda079_0\n",
      "  certifi              pkgs/main::certifi-2020.4.5.2-py36_0 --> conda-forge::certifi-2020.6.20-py36h9f0ad1d_0\n",
      "  mkl_fft                             1.0.15-py36ha843d7b_0 --> 1.1.0-py36h23d657b_0\n",
      "  mkl_random         pkgs/main::mkl_random-1.1.0-py36hd6b4~ --> conda-forge::mkl_random-1.1.1-py36h830a2c2_0\n",
      "  numpy                               1.18.1-py36h4f9e942_0 --> 1.19.1-py36hbc911f0_0\n",
      "  numpy-base                          1.18.1-py36hde5b4d6_1 --> 1.19.1-py36hfa32c7d_0\n",
      "  openssl              pkgs/main::openssl-1.1.1g-h7b6447c_0 --> conda-forge::openssl-1.1.1g-h516909a_1\n",
      "  scikit-learn                        0.22.1-py36hd81dba3_0 --> 0.23.1-py36h423224d_0\n",
      "  scipy                                1.4.1-py36h0b6359f_0 --> 1.5.0-py36h0b6359f_0\n",
      "\n",
      "\n",
      "\n",
      "Downloading and Extracting Packages\n",
      "gorilla-0.3.0        | 11 KB     | ##################################### | 100% \n",
      "botocore-1.17.38     | 4.0 MB    | ##################################### | 100% \n",
      "smmap-3.0.4          | 22 KB     | ##################################### | 100% \n",
      "numpy-base-1.19.1    | 4.1 MB    | ##################################### | 100% \n",
      "simplejson-3.17.2    | 102 KB    | ##################################### | 100% \n",
      "appdirs-1.4.3        | 11 KB     | ##################################### | 100% \n",
      "openssl-1.1.1g       | 2.1 MB    | ##################################### | 100% \n",
      "configparser-5.0.0   | 23 KB     | ##################################### | 100% \n",
      "docker-pycreds-0.4.0 | 11 KB     | ##################################### | 100% \n",
      "python-editor-1.0.4  | 9 KB      | ##################################### | 100% \n",
      "threadpoolctl-2.1.0  | 15 KB     | ##################################### | 100% \n",
      "pip-20.2.1           | 1.1 MB    | ##################################### | 100% \n",
      "gunicorn-20.0.4      | 117 KB    | ##################################### | 100% \n",
      "tabulate-0.8.7       | 24 KB     | ##################################### | 100% \n",
      "alembic-1.4.2        | 111 KB    | ##################################### | 100% \n",
      "gitdb-4.0.5          | 46 KB     | ##################################### | 100% \n",
      "s3transfer-0.3.3     | 90 KB     | ##################################### | 100% \n",
      "numpy-1.19.1         | 21 KB     | ##################################### | 100% \n",
      "databricks-cli-0.9.1 | 48 KB     | ##################################### | 100% \n",
      "mkl_fft-1.1.0        | 144 KB    | ##################################### | 100% \n",
      "mako-1.1.3           | 58 KB     | ##################################### | 100% \n",
      "gitpython-3.1.7      | 109 KB    | ##################################### | 100% \n",
      "docker-py-4.2.2      | 177 KB    | ##################################### | 100% \n",
      "scipy-1.5.0          | 14.4 MB   | ##################################### | 100% \n",
      "websocket-client-0.5 | 59 KB     | ##################################### | 100% \n",
      "mlflow-1.2.0         | 3.4 MB    | ##################################### | 100% \n",
      "sqlparse-0.3.1       | 30 KB     | ##################################### | 100% \n",
      "scikit-learn-0.23.1  | 5.1 MB    | ##################################### | 100% \n",
      "docutils-0.15.2      | 736 KB    | ##################################### | 100% \n",
      "querystring_parser-1 | 10 KB     | ##################################### | 100% \n",
      "boto3-1.14.38        | 69 KB     | ##################################### | 100% \n",
      "Preparing transaction: done\n",
      "Verifying transaction: done\n",
      "Executing transaction: done\n",
      "Collecting ax-platform\n",
      "  Downloading ax_platform-0.1.9-py3-none-any.whl (499 kB)\n",
      "\u001b[K     |████████████████████████████████| 499 kB 3.2 MB/s eta 0:00:01\n",
      "\u001b[?25hRequirement already satisfied: jinja2 in /home/ec2-user/anaconda3/envs/python3/lib/python3.6/site-packages (from ax-platform) (2.11.1)\n",
      "Requirement already satisfied: scipy in /home/ec2-user/anaconda3/envs/python3/lib/python3.6/site-packages (from ax-platform) (1.5.0)\n",
      "Requirement already satisfied: scikit-learn in /home/ec2-user/anaconda3/envs/python3/lib/python3.6/site-packages (from ax-platform) (0.23.1)\n",
      "Collecting botorch==0.2.1\n",
      "  Downloading botorch-0.2.1-py3-none-any.whl (221 kB)\n",
      "\u001b[K     |████████████████████████████████| 221 kB 13.7 MB/s eta 0:00:01\n",
      "\u001b[?25hRequirement already satisfied: pandas in /home/ec2-user/anaconda3/envs/python3/lib/python3.6/site-packages (from ax-platform) (1.0.3)\n",
      "Requirement already satisfied: plotly in /home/ec2-user/anaconda3/envs/python3/lib/python3.6/site-packages (from ax-platform) (4.8.1)\n",
      "Requirement already satisfied: MarkupSafe>=0.23 in /home/ec2-user/anaconda3/envs/python3/lib/python3.6/site-packages (from jinja2->ax-platform) (1.1.1)\n",
      "Requirement already satisfied: numpy>=1.14.5 in /home/ec2-user/anaconda3/envs/python3/lib/python3.6/site-packages (from scipy->ax-platform) (1.19.1)\n",
      "Requirement already satisfied: joblib>=0.11 in /home/ec2-user/anaconda3/envs/python3/lib/python3.6/site-packages (from scikit-learn->ax-platform) (0.14.1)\n",
      "Requirement already satisfied: threadpoolctl>=2.0.0 in /home/ec2-user/anaconda3/envs/python3/lib/python3.6/site-packages (from scikit-learn->ax-platform) (2.1.0)\n",
      "Collecting gpytorch>=1.0.0\n",
      "  Downloading gpytorch-1.1.1.tar.gz (240 kB)\n",
      "\u001b[K     |████████████████████████████████| 240 kB 15.8 MB/s eta 0:00:01\n",
      "\u001b[?25hCollecting torch>=1.3.1\n",
      "  Downloading torch-1.6.0-cp36-cp36m-manylinux1_x86_64.whl (748.8 MB)\n",
      "\u001b[K     |█████████████▋                  | 319.8 MB 123.1 MB/s eta 0:00:04"
     ]
    },
    {
     "name": "stderr",
     "output_type": "stream",
     "text": [
      "IOPub data rate exceeded.\n",
      "The notebook server will temporarily stop sending output\n",
      "to the client in order to avoid crashing it.\n",
      "To change this limit, set the config variable\n",
      "`--NotebookApp.iopub_data_rate_limit`.\n",
      "\n",
      "Current values:\n",
      "NotebookApp.iopub_data_rate_limit=1000000.0 (bytes/sec)\n",
      "NotebookApp.rate_limit_window=3.0 (secs)\n",
      "\n"
     ]
    },
    {
     "name": "stdout",
     "output_type": "stream",
     "text": [
      "\u001b[K     |████████████████████████████▍   | 664.5 MB 109.4 MB/s eta 0:00:01"
     ]
    },
    {
     "name": "stderr",
     "output_type": "stream",
     "text": [
      "IOPub data rate exceeded.\n",
      "The notebook server will temporarily stop sending output\n",
      "to the client in order to avoid crashing it.\n",
      "To change this limit, set the config variable\n",
      "`--NotebookApp.iopub_data_rate_limit`.\n",
      "\n",
      "Current values:\n",
      "NotebookApp.iopub_data_rate_limit=1000000.0 (bytes/sec)\n",
      "NotebookApp.rate_limit_window=3.0 (secs)\n",
      "\n"
     ]
    },
    {
     "name": "stdout",
     "output_type": "stream",
     "text": [
      "\u001b[K     |████████████████████████████████| 748.8 MB 5.9 kB/s \n",
      "\u001b[?25hRequirement already satisfied: pytz>=2017.2 in /home/ec2-user/anaconda3/envs/python3/lib/python3.6/site-packages (from pandas->ax-platform) (2019.3)\n",
      "Requirement already satisfied: python-dateutil>=2.6.1 in /home/ec2-user/anaconda3/envs/python3/lib/python3.6/site-packages (from pandas->ax-platform) (2.8.1)\n",
      "Requirement already satisfied: six in /home/ec2-user/anaconda3/envs/python3/lib/python3.6/site-packages (from plotly->ax-platform) (1.14.0)\n",
      "Requirement already satisfied: retrying>=1.3.3 in /home/ec2-user/anaconda3/envs/python3/lib/python3.6/site-packages (from plotly->ax-platform) (1.3.3)\n",
      "Requirement already satisfied: future in /home/ec2-user/anaconda3/envs/python3/lib/python3.6/site-packages (from torch>=1.3.1->botorch==0.2.1->ax-platform) (0.18.2)\n",
      "Building wheels for collected packages: gpytorch\n",
      "  Building wheel for gpytorch (setup.py) ... \u001b[?25ldone\n",
      "\u001b[?25h  Created wheel for gpytorch: filename=gpytorch-1.1.1-py2.py3-none-any.whl size=400477 sha256=23c180bf8988f8ecf1d347df81a994f30bde57352656d9ce84785f03b5fa0f43\n",
      "  Stored in directory: /home/ec2-user/.cache/pip/wheels/c5/87/74/f87587542ec270b1144bfbfc515020d804863f9fe0c8875551\n",
      "Successfully built gpytorch\n",
      "Installing collected packages: torch, gpytorch, botorch, ax-platform\n",
      "Successfully installed ax-platform-0.1.9 botorch-0.2.1 gpytorch-1.1.1 torch-1.6.0\n"
     ]
    }
   ],
   "source": [
    "!conda install -y -c conda-forge mlflow\n",
    "!pip install ax-platform"
   ]
  },
  {
   "cell_type": "code",
   "execution_count": 3,
   "metadata": {},
   "outputs": [
    {
     "name": "stdout",
     "output_type": "stream",
     "text": [
      "Requirement already satisfied: torch in /home/ec2-user/anaconda3/envs/python3/lib/python3.6/site-packages (1.6.0)\n",
      "Collecting torchvision\n",
      "  Downloading torchvision-0.7.0-cp36-cp36m-manylinux1_x86_64.whl (5.9 MB)\n",
      "\u001b[K     |████████████████████████████████| 5.9 MB 2.9 MB/s eta 0:00:01\n",
      "\u001b[?25hRequirement already satisfied: future in /home/ec2-user/anaconda3/envs/python3/lib/python3.6/site-packages (from torch) (0.18.2)\n",
      "Requirement already satisfied: numpy in /home/ec2-user/anaconda3/envs/python3/lib/python3.6/site-packages (from torch) (1.19.1)\n",
      "Requirement already satisfied: pillow>=4.1.1 in /home/ec2-user/anaconda3/envs/python3/lib/python3.6/site-packages (from torchvision) (7.0.0)\n",
      "Installing collected packages: torchvision\n",
      "Successfully installed torchvision-0.7.0\n"
     ]
    }
   ],
   "source": [
    "!pip install torch torchvision"
   ]
  },
  {
   "cell_type": "code",
   "execution_count": 4,
   "metadata": {},
   "outputs": [],
   "source": [
    "import torch\n",
    "import torchvision\n",
    "import torchvision.transforms as transforms\n",
    "import mlflow\n",
    "import tempfile\n",
    "import shutil\n",
    "import os"
   ]
  },
  {
   "cell_type": "code",
   "execution_count": 5,
   "metadata": {},
   "outputs": [],
   "source": [
    "from ax.plot.contour import plot_contour\n",
    "from ax.plot.trace import optimization_trace_single_method\n",
    "from ax.service.managed_loop import optimize\n",
    "from ax.utils.notebook.plotting import render, init_notebook_plotting\n",
    "from tqdm import tqdm\n",
    "from ax.storage.metric_registry import register_metric\n",
    "from ax.storage.runner_registry import register_runner\n",
    "from ax.storage import save\n",
    "from ax.storage import load"
   ]
  },
  {
   "cell_type": "code",
   "execution_count": 6,
   "metadata": {},
   "outputs": [],
   "source": [
    "mlflow.end_run()\n",
    "mlflow.tracking.set_tracking_uri(\"http://ec2-3-21-204-186.us-east-2.compute.amazonaws.com:5000/\")\n",
    "mlflow.set_experiment(\"Cifar10_AX_pytorch\")"
   ]
  },
  {
   "cell_type": "code",
   "execution_count": 7,
   "metadata": {},
   "outputs": [
    {
     "name": "stdout",
     "output_type": "stream",
     "text": [
      "Files already downloaded and verified\n",
      "Files already downloaded and verified\n"
     ]
    }
   ],
   "source": [
    "transform = transforms.Compose(\n",
    "    [transforms.ToTensor(),\n",
    "     transforms.Normalize((0.5, 0.5, 0.5), (0.5, 0.5, 0.5))])\n",
    "\n",
    "trainset = torchvision.datasets.CIFAR10(root='./data', train=True,\n",
    "                                        download=True, transform=transform)\n",
    "trainloader = torch.utils.data.DataLoader(trainset, batch_size=4,\n",
    "                                          shuffle=True, num_workers=2)\n",
    "\n",
    "testset = torchvision.datasets.CIFAR10(root='./data', train=False,\n",
    "                                       download=True, transform=transform)\n",
    "testloader = torch.utils.data.DataLoader(testset, batch_size=4,\n",
    "                                         shuffle=False, num_workers=2)\n",
    "\n",
    "classes = ('plane', 'car', 'bird', 'cat',\n",
    "           'deer', 'dog', 'frog', 'horse', 'ship', 'truck')"
   ]
  },
  {
   "cell_type": "code",
   "execution_count": 8,
   "metadata": {},
   "outputs": [
    {
     "data": {
      "image/png": "[encoded data removed]",
      "text/plain": [
       "<Figure size 432x288 with 1 Axes>"
      ]
     },
     "metadata": {
      "needs_background": "light"
     },
     "output_type": "display_data"
    },
    {
     "name": "stdout",
     "output_type": "stream",
     "text": [
      "horse  frog truck   car\n"
     ]
    }
   ],
   "source": [
    "import matplotlib.pyplot as plt\n",
    "import numpy as np\n",
    "\n",
    "# functions to show an image\n",
    "\n",
    "\n",
    "def imshow(img):\n",
    "    img = img / 2 + 0.5     # unnormalize\n",
    "    npimg = img.numpy()\n",
    "    plt.imshow(np.transpose(npimg, (1, 2, 0)))\n",
    "    plt.show()\n",
    "\n",
    "\n",
    "# get some random training images\n",
    "dataiter = iter(trainloader)\n",
    "images, labels = dataiter.next()\n",
    "\n",
    "# show images\n",
    "imshow(torchvision.utils.make_grid(images))\n",
    "# print labels\n",
    "print(' '.join('%5s' % classes[labels[j]] for j in range(4)))"
   ]
  },
  {
   "cell_type": "code",
   "execution_count": 9,
   "metadata": {},
   "outputs": [],
   "source": [
    "import torch.nn as nn\n",
    "import torch.nn.functional as F\n",
    "\n",
    "\n",
    "class Net(nn.Module):\n",
    "    def __init__(self):\n",
    "        super(Net, self).__init__()\n",
    "        self.conv1 = nn.Conv2d(3, 6, 5)\n",
    "        self.pool = nn.MaxPool2d(2, 2)\n",
    "        self.conv2 = nn.Conv2d(6, 16, 5)\n",
    "        self.fc1 = nn.Linear(16 * 5 * 5, 120)\n",
    "        self.fc2 = nn.Linear(120, 84)\n",
    "        self.fc3 = nn.Linear(84, 10)\n",
    "\n",
    "    def forward(self, x):\n",
    "        x = self.pool(F.relu(self.conv1(x)))\n",
    "        x = self.pool(F.relu(self.conv2(x)))\n",
    "        x = x.view(-1, 16 * 5 * 5)\n",
    "        x = F.relu(self.fc1(x))\n",
    "        x = F.relu(self.fc2(x))\n",
    "        x = self.fc3(x)\n",
    "        return x\n"
   ]
  },
  {
   "cell_type": "code",
   "execution_count": 10,
   "metadata": {},
   "outputs": [],
   "source": [
    "import torch.optim as optim\n",
    "criterion = nn.CrossEntropyLoss()\n",
    "def configure_optimizer():\n",
    "    optimizer = optim.SGD(net.parameters(), lr=0.001, momentum=0.9)\n",
    "    return optimizer"
   ]
  },
  {
   "cell_type": "code",
   "execution_count": 11,
   "metadata": {},
   "outputs": [],
   "source": [
    "def train():\n",
    "    for epoch in range(1):  # loop over the dataset multiple times\n",
    "        running_loss = 0.0\n",
    "        for i, data in enumerate(trainloader, 0):\n",
    "            inputs, labels = data\n",
    "\n",
    "          # get the inputs; data is a list of [inputs, labels]\n",
    "          # zero the parameter gradients\n",
    "            configure_optimizer().zero_grad()\n",
    "\n",
    "          # forward + backward + optimize\n",
    "            outputs = net(inputs)\n",
    "            loss = criterion(outputs, labels)\n",
    "            loss.backward()\n",
    "            configure_optimizer().step()\n",
    "\n",
    "          # print statistics\n",
    "            running_loss += loss.item()\n",
    "            if i % 2000 == 1999:    # print every 2000 mini-batches\n",
    "                print('[%d, %5d] loss: %.3f' %\n",
    "                      (epoch + 1, i + 1, running_loss / 2000))\n",
    "                running_loss = 0.0\n",
    "\n",
    "    return net.state_dict()   \n",
    "\n",
    "    #print('Finished Training')"
   ]
  },
  {
   "cell_type": "code",
   "execution_count": 12,
   "metadata": {},
   "outputs": [
    {
     "data": {
      "image/png": "[encoded data removed]",
      "text/plain": [
       "<Figure size 432x288 with 1 Axes>"
      ]
     },
     "metadata": {
      "needs_background": "light"
     },
     "output_type": "display_data"
    },
    {
     "name": "stdout",
     "output_type": "stream",
     "text": [
      "GroundTruth:    cat  ship  ship plane\n"
     ]
    }
   ],
   "source": [
    "dataiter = iter(testloader)\n",
    "images, labels = dataiter.next()\n",
    "\n",
    "# print images\n",
    "imshow(torchvision.utils.make_grid(images))\n",
    "print('GroundTruth: ', ' '.join('%5s' % classes[labels[j]] for j in range(4)))"
   ]
  },
  {
   "cell_type": "code",
   "execution_count": 13,
   "metadata": {},
   "outputs": [],
   "source": [
    "import statistics\n",
    "def evaluate(net,net_state_dict):\n",
    "    class_correct = list(0. for i in range(10))\n",
    "    class_total = list(0. for i in range(10))\n",
    "    with torch.no_grad():\n",
    "        for data in testloader:\n",
    "            images, labels = data\n",
    "            outputs = net(images)\n",
    "            _, predicted = torch.max(outputs, 1)\n",
    "            c = (predicted == labels).squeeze()\n",
    "            for i in range(4):\n",
    "                label = labels[i]\n",
    "                class_correct[label] += c[i].item()\n",
    "                class_total[label] += 1\n",
    "\n",
    "    lis = []\n",
    "    for i in range(10):\n",
    "#         print('Accuracy of %5s : %2d %%' % (\n",
    "#             classes[i], 100 * class_correct[i] / class_total[i]))\n",
    "        test_acc = 100 * class_correct[i] / class_total[i]\n",
    "        lis.append(test_acc)\n",
    "    test_accuracy = statistics.mean(lis)\n",
    "    return test_accuracy"
   ]
  },
  {
   "cell_type": "code",
   "execution_count": 14,
   "metadata": {},
   "outputs": [],
   "source": [
    "def train_evaluate(parameterization):\n",
    "    net = Net()\n",
    "    net_state_dict = train()\n",
    "    return evaluate(net,net_state_dict)"
   ]
  },
  {
   "cell_type": "code",
   "execution_count": 15,
   "metadata": {},
   "outputs": [
    {
     "name": "stderr",
     "output_type": "stream",
     "text": [
      "[INFO 08-07 03:10:42] ax.service.ax_client: Starting optimization with verbose logging. To disable logging, set the `verbose_logging` argument to `False`. Note that float values in the logs are rounded to 2 decimal points.\n",
      "[INFO 08-07 03:10:42] ax.modelbridge.dispatch_utils: Using Bayesian Optimization generation strategy: GenerationStrategy(name='Sobol+GPEI', steps=[Sobol for 5 arms, GPEI for subsequent arms], generated 0 arm(s) so far). Iterations after 5 will take longer to generate due to model-fitting.\n",
      "[INFO 08-07 03:10:42] ax.service.ax_client: Generated new trial 0 with parameters {'lr': 0.09, 'momentum': 0.57}.\n"
     ]
    },
    {
     "name": "stdout",
     "output_type": "stream",
     "text": [
      "[1,  2000] loss: 2.303\n",
      "[1,  4000] loss: 2.297\n",
      "[1,  6000] loss: 2.290\n",
      "[1,  8000] loss: 2.272\n",
      "[1, 10000] loss: 2.203\n",
      "[1, 12000] loss: 2.132\n"
     ]
    },
    {
     "name": "stderr",
     "output_type": "stream",
     "text": [
      "[INFO 08-07 03:11:23] ax.service.ax_client: Completed trial 0 with data: {'test_accuracy': (10.01, None)}.\n",
      "[INFO 08-07 03:11:23] ax.service.ax_client: Generated new trial 1 with parameters {'lr': 0.0, 'momentum': 0.94}.\n"
     ]
    },
    {
     "name": "stdout",
     "output_type": "stream",
     "text": [
      "[1,  2000] loss: 2.054\n",
      "[1,  4000] loss: 1.988\n",
      "[1,  6000] loss: 1.914\n",
      "[1,  8000] loss: 1.867\n",
      "[1, 10000] loss: 1.804\n",
      "[1, 12000] loss: 1.748\n"
     ]
    },
    {
     "name": "stderr",
     "output_type": "stream",
     "text": [
      "[INFO 08-07 03:12:04] ax.service.ax_client: Completed trial 1 with data: {'test_accuracy': (10.0, None)}.\n",
      "[INFO 08-07 03:12:04] ax.service.ax_client: Generated new trial 2 with parameters {'lr': 0.0, 'momentum': 0.19}.\n"
     ]
    },
    {
     "name": "stdout",
     "output_type": "stream",
     "text": [
      "[1,  2000] loss: 1.683\n",
      "[1,  4000] loss: 1.651\n",
      "[1,  6000] loss: 1.632\n",
      "[1,  8000] loss: 1.624\n",
      "[1, 10000] loss: 1.598\n",
      "[1, 12000] loss: 1.549\n"
     ]
    },
    {
     "name": "stderr",
     "output_type": "stream",
     "text": [
      "[INFO 08-07 03:12:45] ax.service.ax_client: Completed trial 2 with data: {'test_accuracy': (10.0, None)}.\n",
      "[INFO 08-07 03:12:45] ax.service.ax_client: Generated new trial 3 with parameters {'lr': 0.0, 'momentum': 0.36}.\n"
     ]
    },
    {
     "name": "stdout",
     "output_type": "stream",
     "text": [
      "[1,  2000] loss: 1.542\n",
      "[1,  4000] loss: 1.523\n",
      "[1,  6000] loss: 1.496\n",
      "[1,  8000] loss: 1.490\n",
      "[1, 10000] loss: 1.498\n",
      "[1, 12000] loss: 1.454\n"
     ]
    },
    {
     "name": "stderr",
     "output_type": "stream",
     "text": [
      "[INFO 08-07 03:13:25] ax.service.ax_client: Completed trial 3 with data: {'test_accuracy': (9.62, None)}.\n",
      "[INFO 08-07 03:13:25] ax.service.ax_client: Generated new trial 4 with parameters {'lr': 0.0, 'momentum': 0.77}.\n"
     ]
    },
    {
     "name": "stdout",
     "output_type": "stream",
     "text": [
      "[1,  2000] loss: 1.449\n",
      "[1,  4000] loss: 1.411\n",
      "[1,  6000] loss: 1.437\n",
      "[1,  8000] loss: 1.405\n",
      "[1, 10000] loss: 1.396\n",
      "[1, 12000] loss: 1.401\n"
     ]
    },
    {
     "name": "stderr",
     "output_type": "stream",
     "text": [
      "[INFO 08-07 03:14:06] ax.service.ax_client: Completed trial 4 with data: {'test_accuracy': (9.42, None)}.\n",
      "[INFO 08-07 03:14:07] ax.service.ax_client: Generated new trial 5 with parameters {'lr': 0.4, 'momentum': 1.0}.\n"
     ]
    },
    {
     "name": "stdout",
     "output_type": "stream",
     "text": [
      "[1,  2000] loss: 1.364\n",
      "[1,  4000] loss: 1.356\n",
      "[1,  6000] loss: 1.357\n",
      "[1,  8000] loss: 1.360\n",
      "[1, 10000] loss: 1.341\n",
      "[1, 12000] loss: 1.336\n"
     ]
    },
    {
     "name": "stderr",
     "output_type": "stream",
     "text": [
      "[INFO 08-07 03:14:48] ax.service.ax_client: Completed trial 5 with data: {'test_accuracy': (12.08, None)}.\n",
      "[INFO 08-07 03:14:48] ModelBridge: Leaving out out-of-design observations for arms: 5_0\n",
      "[INFO 08-07 03:14:48] ax.service.ax_client: Generated new trial 6 with parameters {'lr': 0.4, 'momentum': 1.0}.\n"
     ]
    },
    {
     "name": "stdout",
     "output_type": "stream",
     "text": [
      "[1,  2000] loss: 1.317\n",
      "[1,  4000] loss: 1.304\n",
      "[1,  6000] loss: 1.299\n",
      "[1,  8000] loss: 1.294\n",
      "[1, 10000] loss: 1.293\n",
      "[1, 12000] loss: 1.268\n"
     ]
    },
    {
     "name": "stderr",
     "output_type": "stream",
     "text": [
      "[INFO 08-07 03:15:29] ax.service.ax_client: Completed trial 6 with data: {'test_accuracy': (7.66, None)}.\n",
      "[INFO 08-07 03:15:29] ModelBridge: Leaving out out-of-design observations for arms: 6_0, 5_0\n",
      "[INFO 08-07 03:15:29] ax.service.ax_client: Generated new trial 7 with parameters {'lr': 0.4, 'momentum': 1.0}.\n"
     ]
    },
    {
     "name": "stdout",
     "output_type": "stream",
     "text": [
      "[1,  2000] loss: 1.260\n",
      "[1,  4000] loss: 1.258\n",
      "[1,  6000] loss: 1.240\n",
      "[1,  8000] loss: 1.258\n",
      "[1, 10000] loss: 1.249\n",
      "[1, 12000] loss: 1.236\n"
     ]
    },
    {
     "name": "stderr",
     "output_type": "stream",
     "text": [
      "[INFO 08-07 03:16:10] ax.service.ax_client: Completed trial 7 with data: {'test_accuracy': (10.53, None)}.\n",
      "[INFO 08-07 03:16:10] ModelBridge: Leaving out out-of-design observations for arms: 6_0, 5_0\n",
      "[INFO 08-07 03:16:10] ax.service.ax_client: Generated new trial 8 with parameters {'lr': 0.04, 'momentum': 1.0}.\n"
     ]
    },
    {
     "name": "stdout",
     "output_type": "stream",
     "text": [
      "[1,  2000] loss: 1.208\n",
      "[1,  4000] loss: 1.207\n",
      "[1,  6000] loss: 1.205\n",
      "[1,  8000] loss: 1.224\n",
      "[1, 10000] loss: 1.192\n",
      "[1, 12000] loss: 1.201\n"
     ]
    },
    {
     "name": "stderr",
     "output_type": "stream",
     "text": [
      "[INFO 08-07 03:16:51] ax.service.ax_client: Completed trial 8 with data: {'test_accuracy': (10.25, None)}.\n",
      "[INFO 08-07 03:16:51] ModelBridge: Leaving out out-of-design observations for arms: 6_0, 5_0\n",
      "[INFO 08-07 03:16:51] ax.service.ax_client: Generated new trial 9 with parameters {'lr': 0.4, 'momentum': 0.85}.\n"
     ]
    },
    {
     "name": "stdout",
     "output_type": "stream",
     "text": [
      "[1,  2000] loss: 1.157\n",
      "[1,  4000] loss: 1.167\n",
      "[1,  6000] loss: 1.181\n",
      "[1,  8000] loss: 1.166\n",
      "[1, 10000] loss: 1.168\n",
      "[1, 12000] loss: 1.171\n"
     ]
    },
    {
     "name": "stderr",
     "output_type": "stream",
     "text": [
      "[INFO 08-07 03:17:33] ax.service.ax_client: Completed trial 9 with data: {'test_accuracy': (10.0, None)}.\n"
     ]
    }
   ],
   "source": [
    "if not mlflow.active_run():\n",
    "    mlflow.start_run(run_name=\"ParentRun\")\n",
    "    auto_end_run = True\n",
    "else:\n",
    "    auto_end_run = False\n",
    "net = Net()\n",
    "tempdir = tempfile.mkdtemp()\n",
    "try:\n",
    "    summary_file = os.path.join(tempdir, \"model_summary.txt\")\n",
    "    with open(summary_file, \"w\") as f:\n",
    "        for name, module in net.named_modules():\n",
    "            f.write(str(module))\n",
    "\n",
    "    mlflow.log_artifact(summary_file, \"summary\")\n",
    "finally:\n",
    "    shutil.rmtree(tempdir)\n",
    "\n",
    "opt = configure_optimizer()\n",
    "opt_param = opt.state_dict()[\"param_groups\"]\n",
    "\n",
    "\n",
    "for param in opt_param:\n",
    "    for k,v in param.items():\n",
    "        mlflow.log_param(k,v)\n",
    "# total_trials = 2\n",
    "# best_parameters, values, experiment, model = optimize(\n",
    "# parameters=[\n",
    "#     {\"name\": \"lr\", \"type\": \"range\", \"bounds\": [1e-6, 0.4], \"log_scale\": True},\n",
    "#     {\"name\": \"momentum\", \"type\": \"range\", \"bounds\": [0.0, 1.0]},\n",
    "# ],\n",
    "# evaluation_function=train_evaluate,\n",
    "# objective_name='test_accuracy',\n",
    "# total_trials = total_trials)\n",
    "# means, covariances = values\n",
    "# # print(means)\n",
    "# # print(f\"\\nBest parameters: {best_parameters}\\n\")\n",
    "# # print(f\"Test accuracy: {means} Â± {covariances}\")\n",
    "# for t in range(total_trials):\n",
    "#     with mlflow.start_run(nested=True,run_name=\"Trial \"+str(t)) as child_run:\n",
    "#         for i , v in experiment.trials[t].arm.parameters.items():\n",
    "#             #print(i,v)\n",
    "#             mlflow.log_param(str(i),v)\n",
    "#         for i in experiment.fetch_data().df[\"mean\"]:\n",
    "#             mlflow.log_metric(\"HPT_test_accuracy\", i)\n",
    "\n",
    "# for k, v in best_parameters.items():\n",
    "#     mlflow.log_param(\"optimum \" + k, v)\n",
    "        \n",
    "from ax.service.ax_client import AxClient\n",
    "\n",
    "ax_client = AxClient()\n",
    "ax_client.create_experiment(\n",
    "    parameters=[\n",
    "        {\n",
    "            \"name\": \"lr\",\n",
    "            \"type\": \"range\",\n",
    "            \"bounds\": [1e-6, 0.4],\n",
    "            \"log_scale\": True,\n",
    "        },\n",
    "        {\n",
    "            \"name\": \"momentum\",\n",
    "            \"type\": \"range\",\n",
    "            \"bounds\": [0.0, 1.0],\n",
    "        },\n",
    "    ],\n",
    "    objective_name=\"test_accuracy\",\n",
    ")\n",
    "\n",
    "total_trials = 10\n",
    "\n",
    "for i in range(total_trials):\n",
    "    with mlflow.start_run(nested=True, run_name=\"Trial \"+ str(i)) as child_run:\n",
    "\n",
    "        parameters, trial_index = ax_client.get_next_trial()\n",
    "        \n",
    "        # log params to MLFlow\n",
    "        for param_name, value in parameters.items():\n",
    "            mlflow.log_param(param_name, value)\n",
    "        \n",
    "        # evaluate params\n",
    "        test_accuracy = train_evaluate(parameters)\n",
    "        \n",
    "        # log metric to MLFlow\n",
    "        mlflow.log_metric(\"test_accuracy\", test_accuracy)\n",
    "        \n",
    "        ax_client.complete_trial(trial_index=trial_index, raw_data=test_accuracy)\n",
    "\n",
    "best_parameters, metrics = ax_client.get_best_parameters()\n",
    "\n",
    "for param_name, value in best_parameters.items():\n",
    "    mlflow.log_param(\"optimum \" + param_name, value)\n",
    "    \n",
    "    \n",
    "    \n",
    "mlflow.end_run()"
   ]
  },
  {
   "cell_type": "code",
   "execution_count": 16,
   "metadata": {},
   "outputs": [
    {
     "data": {
      "text/plain": [
       "{'lr': 0.39999999999999686, 'momentum': 0.9999999999999999}"
      ]
     },
     "execution_count": 16,
     "metadata": {},
     "output_type": "execute_result"
    }
   ],
   "source": [
    "best_parameters"
   ]
  },
  {
   "cell_type": "code",
   "execution_count": 17,
   "metadata": {},
   "outputs": [
    {
     "data": {
      "text/plain": [
       "({'test_accuracy': 10.441008310536493},\n",
       " {'test_accuracy': {'test_accuracy': 0.01903404889307984}})"
      ]
     },
     "execution_count": 17,
     "metadata": {},
     "output_type": "execute_result"
    }
   ],
   "source": [
    "metrics\n"
   ]
  },
  {
   "cell_type": "code",
   "execution_count": null,
   "metadata": {},
   "outputs": [],
   "source": []
  }
 ],
 "metadata": {
  "kernelspec": {
   "display_name": "conda_python3",
   "language": "python",
   "name": "conda_python3"
  },
  "language_info": {
   "codemirror_mode": {
    "name": "ipython",
    "version": 3
   },
   "file_extension": ".py",
   "mimetype": "text/x-python",
   "name": "python",
   "nbconvert_exporter": "python",
   "pygments_lexer": "ipython3",
   "version": "3.6.10"
  }
 },
 "nbformat": 4,
 "nbformat_minor": 4
}
