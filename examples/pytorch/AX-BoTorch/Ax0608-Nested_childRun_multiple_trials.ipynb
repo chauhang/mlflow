{
 "cells": [
  {
   "cell_type": "code",
   "execution_count": 156,
   "metadata": {},
   "outputs": [],
   "source": [
    "%matplotlib inline"
   ]
  },
  {
   "cell_type": "code",
   "execution_count": 2,
   "metadata": {},
   "outputs": [],
   "source": [
    "#!conda install -y -c conda-forge mlflow\n",
    "# !pip install ax-platform"
   ]
  },
  {
   "cell_type": "code",
   "execution_count": 184,
   "metadata": {},
   "outputs": [],
   "source": [
    "import torch\n",
    "import torchvision\n",
    "import torchvision.transforms as transforms\n",
    "import mlflow\n",
    "import tempfile\n",
    "import shutil\n",
    "import os"
   ]
  },
  {
   "cell_type": "code",
   "execution_count": 185,
   "metadata": {},
   "outputs": [],
   "source": [
    "from ax.plot.contour import plot_contour\n",
    "from ax.plot.trace import optimization_trace_single_method\n",
    "from ax.service.managed_loop import optimize\n",
    "from ax.utils.notebook.plotting import render, init_notebook_plotting\n",
    "from tqdm import tqdm\n",
    "from ax.storage.metric_registry import register_metric\n",
    "from ax.storage.runner_registry import register_runner\n",
    "from ax.storage import save\n",
    "from ax.storage import load"
   ]
  },
  {
   "cell_type": "code",
   "execution_count": 196,
   "metadata": {},
   "outputs": [],
   "source": [
    "mlflow.end_run()\n",
    "mlflow.tracking.set_tracking_uri(\"http://ec2-3-21-204-186.us-east-2.compute.amazonaws.com:5000/\")\n",
    "mlflow.set_experiment(\"Cifar10_AX_pytorch\")"
   ]
  },
  {
   "cell_type": "code",
   "execution_count": 187,
   "metadata": {},
   "outputs": [
    {
     "name": "stdout",
     "output_type": "stream",
     "text": [
      "Files already downloaded and verified\n",
      "Files already downloaded and verified\n"
     ]
    }
   ],
   "source": [
    "transform = transforms.Compose(\n",
    "    [transforms.ToTensor(),\n",
    "     transforms.Normalize((0.5, 0.5, 0.5), (0.5, 0.5, 0.5))])\n",
    "\n",
    "trainset = torchvision.datasets.CIFAR10(root='./data', train=True,\n",
    "                                        download=True, transform=transform)\n",
    "trainloader = torch.utils.data.DataLoader(trainset, batch_size=4,\n",
    "                                          shuffle=True, num_workers=2)\n",
    "\n",
    "testset = torchvision.datasets.CIFAR10(root='./data', train=False,\n",
    "                                       download=True, transform=transform)\n",
    "testloader = torch.utils.data.DataLoader(testset, batch_size=4,\n",
    "                                         shuffle=False, num_workers=2)\n",
    "\n",
    "classes = ('plane', 'car', 'bird', 'cat',\n",
    "           'deer', 'dog', 'frog', 'horse', 'ship', 'truck')"
   ]
  },
  {
   "cell_type": "code",
   "execution_count": 188,
   "metadata": {},
   "outputs": [
    {
     "data": {
      "image/png": "[encoded data removed]",
      "text/plain": [
       "<Figure size 432x288 with 1 Axes>"
      ]
     },
     "metadata": {
      "needs_background": "light"
     },
     "output_type": "display_data"
    },
    {
     "name": "stdout",
     "output_type": "stream",
     "text": [
      "  car   car  bird truck\n"
     ]
    }
   ],
   "source": [
    "import matplotlib.pyplot as plt\n",
    "import numpy as np\n",
    "\n",
    "# functions to show an image\n",
    "\n",
    "\n",
    "def imshow(img):\n",
    "    img = img / 2 + 0.5     # unnormalize\n",
    "    npimg = img.numpy()\n",
    "    plt.imshow(np.transpose(npimg, (1, 2, 0)))\n",
    "    plt.show()\n",
    "\n",
    "\n",
    "# get some random training images\n",
    "dataiter = iter(trainloader)\n",
    "images, labels = dataiter.next()\n",
    "\n",
    "# show images\n",
    "imshow(torchvision.utils.make_grid(images))\n",
    "# print labels\n",
    "print(' '.join('%5s' % classes[labels[j]] for j in range(4)))"
   ]
  },
  {
   "cell_type": "code",
   "execution_count": 189,
   "metadata": {},
   "outputs": [],
   "source": [
    "import torch.nn as nn\n",
    "import torch.nn.functional as F\n",
    "\n",
    "\n",
    "class Net(nn.Module):\n",
    "    def __init__(self):\n",
    "        super(Net, self).__init__()\n",
    "        self.conv1 = nn.Conv2d(3, 6, 5)\n",
    "        self.pool = nn.MaxPool2d(2, 2)\n",
    "        self.conv2 = nn.Conv2d(6, 16, 5)\n",
    "        self.fc1 = nn.Linear(16 * 5 * 5, 120)\n",
    "        self.fc2 = nn.Linear(120, 84)\n",
    "        self.fc3 = nn.Linear(84, 10)\n",
    "\n",
    "    def forward(self, x):\n",
    "        x = self.pool(F.relu(self.conv1(x)))\n",
    "        x = self.pool(F.relu(self.conv2(x)))\n",
    "        x = x.view(-1, 16 * 5 * 5)\n",
    "        x = F.relu(self.fc1(x))\n",
    "        x = F.relu(self.fc2(x))\n",
    "        x = self.fc3(x)\n",
    "        return x\n"
   ]
  },
  {
   "cell_type": "code",
   "execution_count": 190,
   "metadata": {},
   "outputs": [],
   "source": [
    "import torch.optim as optim\n",
    "criterion = nn.CrossEntropyLoss()\n",
    "def configure_optimizer():\n",
    "    optimizer = optim.SGD(net.parameters(), lr=0.001, momentum=0.9)\n",
    "    return optimizer"
   ]
  },
  {
   "cell_type": "code",
   "execution_count": 191,
   "metadata": {},
   "outputs": [],
   "source": [
    "def train():\n",
    "    for epoch in range(1):  # loop over the dataset multiple times\n",
    "        running_loss = 0.0\n",
    "        for i, data in enumerate(trainloader, 0):\n",
    "            inputs, labels = data\n",
    "\n",
    "          # get the inputs; data is a list of [inputs, labels]\n",
    "          # zero the parameter gradients\n",
    "            configure_optimizer().zero_grad()\n",
    "\n",
    "          # forward + backward + optimize\n",
    "            outputs = net(inputs)\n",
    "            loss = criterion(outputs, labels)\n",
    "            loss.backward()\n",
    "            configure_optimizer().step()\n",
    "\n",
    "          # print statistics\n",
    "            running_loss += loss.item()\n",
    "            if i % 2000 == 1999:    # print every 2000 mini-batches\n",
    "                print('[%d, %5d] loss: %.3f' %\n",
    "                      (epoch + 1, i + 1, running_loss / 2000))\n",
    "                running_loss = 0.0\n",
    "\n",
    "    return net.state_dict()   \n",
    "\n",
    "    #print('Finished Training')"
   ]
  },
  {
   "cell_type": "code",
   "execution_count": 192,
   "metadata": {},
   "outputs": [
    {
     "data": {
      "image/png": "[encoded data removed]",
      "text/plain": [
       "<Figure size 432x288 with 1 Axes>"
      ]
     },
     "metadata": {
      "needs_background": "light"
     },
     "output_type": "display_data"
    },
    {
     "name": "stdout",
     "output_type": "stream",
     "text": [
      "GroundTruth:    cat  ship  ship plane\n"
     ]
    }
   ],
   "source": [
    "dataiter = iter(testloader)\n",
    "images, labels = dataiter.next()\n",
    "\n",
    "# print images\n",
    "imshow(torchvision.utils.make_grid(images))\n",
    "print('GroundTruth: ', ' '.join('%5s' % classes[labels[j]] for j in range(4)))"
   ]
  },
  {
   "cell_type": "code",
   "execution_count": 193,
   "metadata": {},
   "outputs": [],
   "source": [
    "import statistics\n",
    "def evaluate(net,net_state_dict):\n",
    "    class_correct = list(0. for i in range(10))\n",
    "    class_total = list(0. for i in range(10))\n",
    "    with torch.no_grad():\n",
    "        for data in testloader:\n",
    "            images, labels = data\n",
    "            outputs = net(images)\n",
    "            _, predicted = torch.max(outputs, 1)\n",
    "            c = (predicted == labels).squeeze()\n",
    "            for i in range(4):\n",
    "                label = labels[i]\n",
    "                class_correct[label] += c[i].item()\n",
    "                class_total[label] += 1\n",
    "\n",
    "    lis = []\n",
    "    for i in range(10):\n",
    "#         print('Accuracy of %5s : %2d %%' % (\n",
    "#             classes[i], 100 * class_correct[i] / class_total[i]))\n",
    "        test_acc = 100 * class_correct[i] / class_total[i]\n",
    "        lis.append(test_acc)\n",
    "    test_accuracy = statistics.mean(lis)\n",
    "    return test_accuracy"
   ]
  },
  {
   "cell_type": "code",
   "execution_count": 194,
   "metadata": {},
   "outputs": [],
   "source": [
    "def train_evaluate(parameterization):\n",
    "    net = Net()\n",
    "    net_state_dict = train()\n",
    "    return evaluate(net,net_state_dict)"
   ]
  },
  {
   "cell_type": "code",
   "execution_count": 197,
   "metadata": {},
   "outputs": [
    {
     "name": "stderr",
     "output_type": "stream",
     "text": [
      "[INFO 08-06 15:35:55] ax.modelbridge.dispatch_utils: Using Bayesian Optimization generation strategy: GenerationStrategy(name='Sobol+GPEI', steps=[Sobol for 5 arms, GPEI for subsequent arms], generated 0 arm(s) so far). Iterations after 5 will take longer to generate due to model-fitting.\n",
      "[INFO 08-06 15:35:55] ax.service.managed_loop: Started full optimization with 2 steps.\n",
      "[INFO 08-06 15:35:55] ax.service.managed_loop: Running optimization trial 1...\n"
     ]
    },
    {
     "name": "stdout",
     "output_type": "stream",
     "text": [
      "[1,  2000] loss: 2.306\n",
      "[1,  4000] loss: 2.300\n",
      "[1,  6000] loss: 2.295\n",
      "[1,  8000] loss: 2.278\n",
      "[1, 10000] loss: 2.226\n",
      "[1, 12000] loss: 2.130\n"
     ]
    },
    {
     "name": "stderr",
     "output_type": "stream",
     "text": [
      "[INFO 08-06 15:36:35] ax.service.managed_loop: Running optimization trial 2...\n"
     ]
    },
    {
     "name": "stdout",
     "output_type": "stream",
     "text": [
      "Accuracy of plane :  0 %\n",
      "Accuracy of   car :  0 %\n",
      "Accuracy of  bird :  0 %\n",
      "Accuracy of   cat :  0 %\n",
      "Accuracy of  deer :  0 %\n",
      "Accuracy of   dog :  0 %\n",
      "Accuracy of  frog : 100 %\n",
      "Accuracy of horse :  0 %\n",
      "Accuracy of  ship :  0 %\n",
      "Accuracy of truck :  0 %\n",
      "[1,  2000] loss: 2.017\n",
      "[1,  4000] loss: 1.950\n",
      "[1,  6000] loss: 1.883\n",
      "[1,  8000] loss: 1.843\n",
      "[1, 10000] loss: 1.769\n",
      "[1, 12000] loss: 1.748\n",
      "Accuracy of plane :  0 %\n",
      "Accuracy of   car :  0 %\n",
      "Accuracy of  bird :  0 %\n",
      "Accuracy of   cat :  0 %\n",
      "Accuracy of  deer :  0 %\n",
      "Accuracy of   dog :  0 %\n",
      "Accuracy of  frog :  0 %\n",
      "Accuracy of horse : 82 %\n",
      "Accuracy of  ship :  0 %\n",
      "Accuracy of truck : 11 %\n",
      "{'test_accuracy': 10.0}\n",
      "\n",
      "Best parameters: {'lr': 4.214063096951223e-06, 'momentum': 0.6952416300773621}\n",
      "\n",
      "Test accuracy: {'test_accuracy': 10.0} Â± {'test_accuracy': {'test_accuracy': 0.0}}\n",
      "lr 4.214063096951223e-06\n",
      "momentum 0.6952416300773621\n",
      "lr 0.043039583931886914\n",
      "momentum 0.8033366799354553\n"
     ]
    }
   ],
   "source": [
    "if not mlflow.active_run():\n",
    "    mlflow.start_run(run_name=\"ParentRun\")\n",
    "    auto_end_run = True\n",
    "else:\n",
    "    auto_end_run = False\n",
    "net = Net()\n",
    "tempdir = tempfile.mkdtemp()\n",
    "try:\n",
    "    summary_file = os.path.join(tempdir, \"model_summary.txt\")\n",
    "    with open(summary_file, \"w\") as f:\n",
    "        for name, module in net.named_modules():\n",
    "            f.write(str(module))\n",
    "\n",
    "    mlflow.log_artifact(summary_file, \"summary\")\n",
    "finally:\n",
    "    shutil.rmtree(tempdir)\n",
    "\n",
    "opt = configure_optimizer()\n",
    "opt_param = opt.state_dict()[\"param_groups\"]\n",
    "\n",
    "\n",
    "for param in opt_param:\n",
    "    for k,v in param.items():\n",
    "        mlflow.log_param(k,v)\n",
    "total_trials = 2\n",
    "best_parameters, values, experiment, model = optimize(\n",
    "parameters=[\n",
    "    {\"name\": \"lr\", \"type\": \"range\", \"bounds\": [1e-6, 0.4], \"log_scale\": True},\n",
    "    {\"name\": \"momentum\", \"type\": \"range\", \"bounds\": [0.0, 1.0]},\n",
    "],\n",
    "evaluation_function=train_evaluate,\n",
    "objective_name='test_accuracy',\n",
    "total_trials = total_trials)\n",
    "means, covariances = values\n",
    "# print(means)\n",
    "# print(f\"\\nBest parameters: {best_parameters}\\n\")\n",
    "# print(f\"Test accuracy: {means} Â± {covariances}\")\n",
    "for t in range(total_trials):\n",
    "    with mlflow.start_run(nested=True,run_name=\"Trial \"+str(t)) as child_run:\n",
    "        for i , v in experiment.trials[t].arm.parameters.items():\n",
    "            #print(i,v)\n",
    "            mlflow.log_param(str(i),v)\n",
    "        for i in experiment.fetch_data().df[\"mean\"]:\n",
    "            mlflow.log_metric(\"HPT_test_accuracy\", i)\n",
    "\n",
    "for k, v in best_parameters.items():\n",
    "    mlflow.log_param(\"optimum \" + k, v)\n",
    "        \n",
    "mlflow.end_run()"
   ]
  },
  {
   "cell_type": "code",
   "execution_count": null,
   "metadata": {},
   "outputs": [],
   "source": []
  }
 ],
 "metadata": {
  "kernelspec": {
   "display_name": "conda_python3",
   "language": "python",
   "name": "conda_python3"
  },
  "language_info": {
   "codemirror_mode": {
    "name": "ipython",
    "version": 3
   },
   "file_extension": ".py",
   "mimetype": "text/x-python",
   "name": "python",
   "nbconvert_exporter": "python",
   "pygments_lexer": "ipython3",
   "version": "3.6.10"
  }
 },
 "nbformat": 4,
 "nbformat_minor": 4
}
